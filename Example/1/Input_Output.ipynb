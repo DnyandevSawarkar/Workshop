{
 "cells": [
  {
   "cell_type": "code",
   "execution_count": null,
   "id": "b84483f3",
   "metadata": {},
   "outputs": [],
   "source": [
    "_= input(\"Enter Text: \")\n",
    "print(\"Input Text\",_)"
   ]
  }
 ],
 "metadata": {},
 "nbformat": 4,
 "nbformat_minor": 5
}
