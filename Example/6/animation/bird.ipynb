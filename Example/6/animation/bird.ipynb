{
 "cells": [
  {
   "cell_type": "code",
   "execution_count": null,
   "id": "710d0adf",
   "metadata": {},
   "outputs": [],
   "source": [
    "import pygame\n",
    "import os\n",
    "\n"
   ]
  },
  {
   "cell_type": "code",
   "execution_count": null,
   "id": "85d97dd2",
   "metadata": {},
   "outputs": [],
   "source": [
    "\n",
    "# Initialize Pygame\n",
    "pygame.init()\n",
    "\n"
   ]
  },
  {
   "cell_type": "code",
   "execution_count": null,
   "id": "373892ff",
   "metadata": {},
   "outputs": [],
   "source": [
    "# Set up display\n",
    "WIDTH, HEIGHT = 1080, 1000\n",
    "WIN = pygame.display.set_mode((WIDTH, HEIGHT))\n",
    "pygame.display.set_caption(\"Simple Bird Animation\")\n",
    "\n"
   ]
  },
  {
   "cell_type": "code",
   "execution_count": null,
   "id": "0d6184c6",
   "metadata": {},
   "outputs": [],
   "source": [
    "# Load background image\n",
    "BACKGROUND_IMAGE = pygame.image.load(os.path.join(\"sky.jpg\")).convert()\n",
    "BACKGROUND_IMAGE = pygame.transform.scale(BACKGROUND_IMAGE, (WIDTH, HEIGHT))\n",
    "\n",
    "\n",
    "# Load bird images\n",
    "BIRD_IMAGES = [pygame.image.load(os.path.join(f'{i}.jpg')) for i in range(1, 9)]\n",
    "bird_index = 0\n",
    "\n",
    "# Set bird position and velocity\n",
    "bird_rect = BIRD_IMAGES[0].get_rect(center=(WIDTH // 2, HEIGHT // 2))\n",
    "bird_vel = 5\n",
    "\n"
   ]
  },
  {
   "cell_type": "code",
   "execution_count": null,
   "id": "a09818be",
   "metadata": {},
   "outputs": [],
   "source": [
    "# Game loop\n",
    "clock = pygame.time.Clock()\n",
    "run = True\n",
    "while run:\n",
    "    clock.tick(30)  # FPS\n",
    "\n",
    "    # Event handling\n",
    "    for event in pygame.event.get():\n",
    "        if event.type == pygame.QUIT:\n",
    "            run = False\n",
    "\n",
    "\n",
    "    # Update bird position\n",
    "    bird_rect.x -= bird_vel\n",
    "    # Check if bird is out of the screen on the right side\n",
    "    if bird_rect.right > WIDTH:\n",
    "        bird_rect.left = 0  # Move bird to the left side\n",
    "    # Check if bird is out of the screen on the left side\n",
    "    elif bird_rect.left < 0:\n",
    "        bird_rect.right = WIDTH  # Move bird to the right side\n",
    "    # Bird animation\n",
    "    bird_index = (bird_index + 1) % len(BIRD_IMAGES)\n",
    "\n",
    "    # Redraw display\n",
    "    WIN.blit(BACKGROUND_IMAGE, (0, 0))  # Draw background\n",
    "\n",
    "    WIN.blit(BIRD_IMAGES[bird_index], bird_rect)  # Draw bird\n",
    "    pygame.display.update()\n",
    "\n"
   ]
  },
  {
   "cell_type": "code",
   "execution_count": null,
   "id": "f9014378",
   "metadata": {},
   "outputs": [],
   "source": [
    "pygame.quit()"
   ]
  },
  {
   "cell_type": "code",
   "execution_count": null,
   "id": "af5a010a",
   "metadata": {},
   "outputs": [],
   "source": []
  },
  {
   "cell_type": "code",
   "execution_count": null,
   "id": "1861837b",
   "metadata": {},
   "outputs": [],
   "source": []
  },
  {
   "cell_type": "code",
   "execution_count": null,
   "id": "80e6e60f",
   "metadata": {},
   "outputs": [],
   "source": []
  },
  {
   "cell_type": "code",
   "execution_count": null,
   "id": "58811886",
   "metadata": {},
   "outputs": [],
   "source": []
  },
  {
   "cell_type": "code",
   "execution_count": null,
   "id": "69b5b940",
   "metadata": {},
   "outputs": [],
   "source": []
  }
 ],
 "metadata": {
  "language_info": {
   "name": "python"
  }
 },
 "nbformat": 4,
 "nbformat_minor": 5
}
