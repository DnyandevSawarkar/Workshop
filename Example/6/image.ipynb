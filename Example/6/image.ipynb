{
 "cells": [
  {
   "cell_type": "code",
   "execution_count": null,
   "id": "54a0feac",
   "metadata": {},
   "outputs": [],
   "source": [
    "import pygame\n",
    "import os\n",
    "\n"
   ]
  },
  {
   "cell_type": "code",
   "execution_count": null,
   "id": "de78c8bf",
   "metadata": {},
   "outputs": [],
   "source": [
    "# Initialize Pygame\n",
    "pygame.init()\n",
    "\n",
    "\n"
   ]
  },
  {
   "cell_type": "code",
   "execution_count": null,
   "id": "66d2e5d3",
   "metadata": {},
   "outputs": [],
   "source": [
    "# Set the dimensions of the window\n",
    "WIDTH, HEIGHT = 800, 600\n",
    "screen = pygame.display.set_mode((WIDTH, HEIGHT))\n",
    "\n"
   ]
  },
  {
   "cell_type": "code",
   "execution_count": null,
   "id": "8c7d8ee7",
   "metadata": {},
   "outputs": [],
   "source": [
    "# Set the title of the window\n",
    "pygame.display.set_caption(\"Image Display\")\n",
    "\n",
    "# Load the image\n",
    "image_path = os.path.join(\"image.jpg\")  # Replace \"example_image.png\" with the name of your image file\n",
    "image = pygame.image.load(image_path)\n",
    "\n"
   ]
  },
  {
   "cell_type": "code",
   "execution_count": null,
   "id": "09b8af27",
   "metadata": {},
   "outputs": [],
   "source": [
    "# Main loop\n",
    "running = True\n",
    "while running:\n",
    "    for event in pygame.event.get():\n",
    "        if event.type == pygame.QUIT:\n",
    "            running = False\n",
    "\n",
    "    # Fill the screen with a white background\n",
    "    screen.fill((255, 255, 255))\n",
    "\n",
    "    # Blit the image onto the screen\n",
    "    screen.blit(image, (0, 0))\n",
    "\n",
    "    # Update the display\n",
    "    pygame.display.flip()\n",
    "\n"
   ]
  },
  {
   "cell_type": "code",
   "execution_count": null,
   "id": "e4fec2de",
   "metadata": {},
   "outputs": [],
   "source": [
    "# Quit Pygame\n",
    "pygame.quit()"
   ]
  },
  {
   "cell_type": "code",
   "execution_count": null,
   "id": "72b56546",
   "metadata": {},
   "outputs": [],
   "source": []
  },
  {
   "cell_type": "code",
   "execution_count": null,
   "id": "715ef107",
   "metadata": {},
   "outputs": [],
   "source": []
  }
 ],
 "metadata": {
  "language_info": {
   "name": "python"
  }
 },
 "nbformat": 4,
 "nbformat_minor": 5
}
