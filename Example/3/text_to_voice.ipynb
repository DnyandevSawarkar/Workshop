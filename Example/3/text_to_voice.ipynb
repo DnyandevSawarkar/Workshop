{
 "cells": [
  {
   "cell_type": "code",
   "execution_count": null,
   "id": "ece372ce",
   "metadata": {},
   "outputs": [],
   "source": [
    "import pyttsx3\n",
    " \n"
   ]
  },
  {
   "cell_type": "code",
   "execution_count": null,
   "id": "ca195aa2",
   "metadata": {},
   "outputs": [],
   "source": [
    "# init function to get an engine instance for the speech synthesis \n",
    "engine = pyttsx3.init()\n",
    " \n"
   ]
  },
  {
   "cell_type": "code",
   "execution_count": null,
   "id": "8dfde0bd",
   "metadata": {},
   "outputs": [],
   "source": [
    "# say method on the engine that passing input text to be spoken\n",
    "engine.say('Hello , How may I help you.')\n",
    " \n"
   ]
  },
  {
   "cell_type": "code",
   "execution_count": null,
   "id": "2390c238",
   "metadata": {},
   "outputs": [],
   "source": [
    "# run and wait method, it processes the voice commands. \n",
    "engine.runAndWait()"
   ]
  }
 ],
 "metadata": {
  "language_info": {
   "name": "python"
  }
 },
 "nbformat": 4,
 "nbformat_minor": 5
}
