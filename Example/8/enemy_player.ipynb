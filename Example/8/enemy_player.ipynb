{
 "cells": [
  {
   "cell_type": "code",
   "execution_count": null,
   "id": "e6ca37fc",
   "metadata": {},
   "outputs": [],
   "source": [
    "import pygame\n",
    "import sys\n",
    "import os\n"
   ]
  },
  {
   "cell_type": "code",
   "execution_count": null,
   "id": "ff6c9998",
   "metadata": {},
   "outputs": [],
   "source": [
    "\n",
    "# Initialize Pygame\n",
    "pygame.init()\n",
    "\n"
   ]
  },
  {
   "cell_type": "code",
   "execution_count": null,
   "id": "5a69e7d2",
   "metadata": {},
   "outputs": [],
   "source": [
    "# Set up display\n",
    "WIDTH, HEIGHT = 1800, 1000\n",
    "WIN = pygame.display.set_mode((WIDTH, HEIGHT))\n",
    "pygame.display.set_caption(\"Move Player with Keyboard\")\n",
    "\n"
   ]
  },
  {
   "cell_type": "code",
   "execution_count": null,
   "id": "d14ab824",
   "metadata": {},
   "outputs": [],
   "source": [
    "# Load player image\n",
    "PLAYER_IMAGE = pygame.image.load(os.path.join('player.png'))\n",
    "\n",
    "# Set up player variables\n",
    "player_width, player_height = 50, 50\n",
    "player_x, player_y = (WIDTH - player_width) // 2, (HEIGHT - player_height) // 2\n",
    "player_vel = 5\n"
   ]
  },
  {
   "cell_type": "code",
   "execution_count": null,
   "id": "7371795c",
   "metadata": {},
   "outputs": [],
   "source": [
    "# Load NPC image\n",
    "NPC_IMAGE = pygame.image.load(os.path.join('enemy.png'))\n",
    "\n",
    "# Set up NPC variables\n",
    "npc_width, npc_height = 50, 50\n",
    "npc_x, npc_y = (WIDTH - npc_width) // 2, 50\n",
    "npc_vel = 3\n",
    "npc_direction = 1  # 1 for moving right, -1 for moving left\n"
   ]
  },
  {
   "cell_type": "code",
   "execution_count": null,
   "id": "b6642e59",
   "metadata": {},
   "outputs": [],
   "source": [
    "\n",
    "# Game loop\n",
    "clock = pygame.time.Clock()\n",
    "run = True\n",
    "while run:\n",
    "    clock.tick(30)  # FPS\n",
    "\n",
    "    # Event handling\n",
    "    for event in pygame.event.get():\n",
    "        if event.type == pygame.QUIT:\n",
    "            run = False\n",
    "\n",
    "    # Update player position based on pressed keys with move limits\n",
    "    keys = pygame.key.get_pressed()\n",
    "    if keys[pygame.K_LEFT] and player_x > 0:\n",
    "        player_x -= player_vel\n",
    "    if keys[pygame.K_RIGHT] and player_x < WIDTH - player_width:\n",
    "        player_x += player_vel\n",
    "    if keys[pygame.K_UP] and player_y > 0:\n",
    "        player_y -= player_vel\n",
    "    if keys[pygame.K_DOWN] and player_y < HEIGHT - player_height:\n",
    "        player_y += player_vel\n",
    "\n",
    "    # Update NPC position\n",
    "    npc_x += npc_vel * npc_direction\n",
    "\n",
    "    # Reverse direction if NPC hits window bounds\n",
    "    if npc_x <= 0:\n",
    "        npc_direction = 1\n",
    "    elif npc_x >= WIDTH - npc_width:\n",
    "        npc_direction = -1\n",
    "\n",
    "    # Redraw display\n",
    "    WIN.fill((255, 255, 255))  # Fill window with white color\n",
    "    WIN.blit(PLAYER_IMAGE, (player_x, player_y))  # Draw player\n",
    "    WIN.blit(NPC_IMAGE, (npc_x, npc_y))  # Draw NPC\n",
    "    pygame.display.update()\n",
    "\n"
   ]
  },
  {
   "cell_type": "code",
   "execution_count": null,
   "id": "19ae0aef",
   "metadata": {},
   "outputs": [],
   "source": [
    "pygame.quit()\n",
    "sys.exit()"
   ]
  },
  {
   "cell_type": "code",
   "execution_count": null,
   "id": "e1c47f36",
   "metadata": {},
   "outputs": [],
   "source": []
  }
 ],
 "metadata": {
  "language_info": {
   "name": "python"
  }
 },
 "nbformat": 4,
 "nbformat_minor": 5
}
