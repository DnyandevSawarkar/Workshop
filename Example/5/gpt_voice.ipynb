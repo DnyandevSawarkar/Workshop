{
 "cells": [
  {
   "cell_type": "code",
   "execution_count": null,
   "id": "a45b92fe",
   "metadata": {},
   "outputs": [],
   "source": [
    "import openai\n",
    "import speech_recognition as sr\n",
    "\n"
   ]
  },
  {
   "cell_type": "code",
   "execution_count": null,
   "id": "9cf8685e",
   "metadata": {},
   "outputs": [],
   "source": [
    "openai.api_key = ''\n"
   ]
  },
  {
   "cell_type": "code",
   "execution_count": null,
   "id": "5ebdf974",
   "metadata": {},
   "outputs": [],
   "source": [
    "messages = [\n",
    "    {\"role\": \"system\", \"content\": \"You are a kind helpful assistant.\"},\n",
    "]\n"
   ]
  },
  {
   "cell_type": "code",
   "execution_count": null,
   "id": "83bc31e4",
   "metadata": {},
   "outputs": [],
   "source": [
    "def recognize_speech():\n",
    "    recognizer = sr.Recognizer()\n",
    "    with sr.Microphone() as source:\n",
    "        print(\"Listening...\")\n",
    "        audio = recognizer.listen(source)\n",
    "        print(\"Recognizing...\")\n",
    "        try:\n",
    "            text = recognizer.recognize_google(audio)\n",
    "            print(\"You said:\", text)\n",
    "            return text\n",
    "        except sr.UnknownValueError:\n",
    "            print(\"Sorry, I could not understand the audio.\")\n",
    "            return \"\"\n",
    "        except sr.RequestError as e:\n",
    "            print(\"Could not request results from Google Speech Recognition service; {0}\".format(e))\n",
    "            return \"\"\n"
   ]
  },
  {
   "cell_type": "code",
   "execution_count": null,
   "id": "e65fea27",
   "metadata": {},
   "outputs": [],
   "source": [
    "\n",
    "def text_work(work_prompt):\n",
    "    message = str(work_prompt)\n",
    "    if message:\n",
    "        messages.append(\n",
    "            {\"role\": \"user\", \"content\": message},\n",
    "        )\n",
    "        chat = openai.ChatCompletion.create(\n",
    "            model=\"gpt-3.5-turbo\", messages=messages\n",
    "        )\n",
    "\n",
    "        reply = chat.choices[0].message.content\n",
    "        messages.append({\"role\": \"assistant\", \"content\": reply})\n",
    "        return {\"answer\": chat.choices[0].message.content}\n",
    "\n",
    "\n"
   ]
  },
  {
   "cell_type": "code",
   "execution_count": null,
   "id": "8d0578cc",
   "metadata": {},
   "outputs": [],
   "source": [
    "if __name__ == \"__main__\":\n",
    "    while True:\n",
    "        input_method = input(\"Enter 'text' or 'voice' to choose input method: \").lower()\n",
    "        if input_method == 'text':\n",
    "            prompt = input(\"Enter your prompt: \")\n",
    "        elif input_method == 'voice':\n",
    "            prompt = recognize_speech()\n",
    "        else:\n",
    "            print(\"Invalid input method. Please enter 'text' or 'voice'.\")\n",
    "            continue\n",
    "        \n",
    "        response = text_work(prompt)\n",
    "        print(response)"
   ]
  },
  {
   "cell_type": "code",
   "execution_count": null,
   "id": "af57ccae",
   "metadata": {},
   "outputs": [],
   "source": []
  },
  {
   "cell_type": "code",
   "execution_count": null,
   "id": "a70e0c36",
   "metadata": {},
   "outputs": [],
   "source": []
  },
  {
   "cell_type": "code",
   "execution_count": null,
   "id": "6d89189f",
   "metadata": {},
   "outputs": [],
   "source": []
  }
 ],
 "metadata": {
  "language_info": {
   "name": "python"
  }
 },
 "nbformat": 4,
 "nbformat_minor": 5
}
