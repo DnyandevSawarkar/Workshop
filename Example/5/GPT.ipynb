{
 "cells": [
  {
   "cell_type": "code",
   "execution_count": null,
   "id": "f5229300",
   "metadata": {},
   "outputs": [],
   "source": [
    "\n",
    "import openai\n"
   ]
  },
  {
   "cell_type": "code",
   "execution_count": null,
   "id": "2131ff41",
   "metadata": {},
   "outputs": [],
   "source": [
    "openai.api_key = ''\n",
    "\n"
   ]
  },
  {
   "cell_type": "code",
   "execution_count": null,
   "id": "e1c6e20a",
   "metadata": {},
   "outputs": [],
   "source": [
    "messages = [\n",
    "    {\"role\": \"system\", \"content\": \"You are a kind helpful assistant.\"},\n",
    "]\n",
    "\n"
   ]
  },
  {
   "cell_type": "code",
   "execution_count": null,
   "id": "262eb47a",
   "metadata": {},
   "outputs": [],
   "source": [
    "def text_work(work_prompt):\n",
    "    message = str(work_prompt)\n",
    "    if message:\n",
    "        messages.append(\n",
    "            {\"role\": \"user\", \"content\": message},\n",
    "        )\n",
    "        chat = openai.ChatCompletion.create(\n",
    "            model=\"gpt-3.5-turbo\", messages=messages\n",
    "        )\n",
    "\n",
    "        reply = chat.choices[0].message.content\n",
    "        #print(f\"Neptune AI: {reply}\")\n",
    "        messages.append({\"role\": \"assistant\", \"content\": reply})\n",
    "        # print(chat)\n",
    "        return {\"answer\": chat.choices[0].message.content}\n",
    "    \n"
   ]
  },
  {
   "cell_type": "code",
   "execution_count": null,
   "id": "d3202f95",
   "metadata": {},
   "outputs": [],
   "source": [
    "if __name__ == \"__main__\":\n",
    "    while(1):\n",
    "        _ = input(\"Enter you Prompt\")\n",
    "        print(text_work(_))"
   ]
  },
  {
   "cell_type": "code",
   "execution_count": null,
   "id": "c34b34d4",
   "metadata": {},
   "outputs": [],
   "source": []
  }
 ],
 "metadata": {
  "language_info": {
   "name": "python"
  }
 },
 "nbformat": 4,
 "nbformat_minor": 5
}
