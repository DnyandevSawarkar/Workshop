{
 "cells": [
  {
   "cell_type": "code",
   "execution_count": null,
   "id": "599a898d",
   "metadata": {},
   "outputs": [],
   "source": [
    "# Import NumPy\n",
    "import numpy as np\n"
   ]
  },
  {
   "cell_type": "code",
   "execution_count": null,
   "id": "ef116aa9",
   "metadata": {},
   "outputs": [],
   "source": [
    "# Create a 1D array\n",
    "array_1d = np.array([1, 2, 3, 4, 5])\n",
    "print(\"1D array:\", array_1d)"
   ]
  },
  {
   "cell_type": "code",
   "execution_count": null,
   "id": "772fd27b",
   "metadata": {},
   "outputs": [],
   "source": [
    "# Create a 2D array\n",
    "array_2d = np.array([[1, 2, 3], [4, 5, 6]])\n",
    "print(\"2D array:\\n\", array_2d)"
   ]
  },
  {
   "cell_type": "code",
   "execution_count": null,
   "id": "fb6c75b5",
   "metadata": {},
   "outputs": [],
   "source": [
    "# Perform arithmetic operations\n",
    "array_sum = array_1d + 10\n",
    "print(\"Array after adding 10:\", array_sum)\n"
   ]
  },
  {
   "cell_type": "code",
   "execution_count": null,
   "id": "e52edda0",
   "metadata": {},
   "outputs": [],
   "source": [
    "array_square = array_1d ** 2\n",
    "print(\"Array elements squared:\", array_square)\n"
   ]
  },
  {
   "cell_type": "code",
   "execution_count": null,
   "id": "9e004b88",
   "metadata": {},
   "outputs": [],
   "source": [
    "# Use some NumPy built-in functions\n",
    "mean = np.mean(array_1d)\n",
    "print(\"Mean of 1D array:\", mean)\n"
   ]
  },
  {
   "cell_type": "code",
   "execution_count": null,
   "id": "dea5724a",
   "metadata": {},
   "outputs": [],
   "source": [
    "max_value = np.max(array_2d)\n",
    "print(\"Max value in 2D array:\", max_value)\n"
   ]
  },
  {
   "cell_type": "code",
   "execution_count": null,
   "id": "600d0b06",
   "metadata": {},
   "outputs": [],
   "source": [
    "reshape_array = np.reshape(array_1d, (5, 1))\n",
    "print(\"Reshaped 1D array to 5x1:\\n\", reshape_array)"
   ]
  },
  {
   "cell_type": "code",
   "execution_count": null,
   "id": "f1530b9d",
   "metadata": {},
   "outputs": [],
   "source": [
    "\n",
    "# Generate arrays using NumPy functions\n",
    "zeros_array = np.zeros((2, 3))\n",
    "print(\"2x3 array of zeros:\\n\", zeros_array)"
   ]
  },
  {
   "cell_type": "code",
   "execution_count": null,
   "id": "1196ba18",
   "metadata": {},
   "outputs": [],
   "source": [
    "ones_array = np.ones((3, 2))\n",
    "print(\"3x2 array of ones:\\n\", ones_array)"
   ]
  },
  {
   "cell_type": "code",
   "execution_count": null,
   "id": "08c55249",
   "metadata": {},
   "outputs": [],
   "source": [
    "\n",
    "# Generate an array with a range of values\n",
    "range_array = np.arange(0, 10, 2)\n",
    "print(\"Array with range of values:\", range_array)"
   ]
  },
  {
   "cell_type": "code",
   "execution_count": null,
   "id": "4af2f0d2",
   "metadata": {},
   "outputs": [],
   "source": []
  },
  {
   "cell_type": "code",
   "execution_count": null,
   "id": "1516def9",
   "metadata": {},
   "outputs": [],
   "source": []
  },
  {
   "cell_type": "code",
   "execution_count": null,
   "id": "7d42c580",
   "metadata": {},
   "outputs": [],
   "source": []
  },
  {
   "cell_type": "code",
   "execution_count": null,
   "id": "88538bd7",
   "metadata": {},
   "outputs": [],
   "source": []
  }
 ],
 "metadata": {
  "language_info": {
   "name": "python"
  }
 },
 "nbformat": 4,
 "nbformat_minor": 5
}
