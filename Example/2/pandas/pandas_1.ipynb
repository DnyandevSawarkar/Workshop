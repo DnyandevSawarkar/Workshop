{
 "cells": [
  {
   "cell_type": "code",
   "execution_count": null,
   "id": "b5cda711",
   "metadata": {},
   "outputs": [],
   "source": [
    "import pandas as pd\n",
    "\n",
    "\n"
   ]
  },
  {
   "cell_type": "code",
   "execution_count": null,
   "id": "2354f8f0",
   "metadata": {},
   "outputs": [],
   "source": [
    "# Sample data\n",
    "data = {\n",
    "    'id': [1, 2, 3, 4, 5, 6, 7, 8, 9, 10],\n",
    "    'name': ['John Doe', 'Jane Smith', 'Bob Johnson', 'Alice Brown', 'Charlie Black', 'Emily White', 'Daniel Green', 'Laura Blue', 'Peter Red', 'Anne Purple'],\n",
    "    'age': [28, 34, 45, 29, 25, 32, 40, 38, 50, 27],\n",
    "    'salary': [50000, 60000, 70000, 55000, 48000, 62000, 58000, 63000, 72000, 51000],\n",
    "    'department': ['HR', 'Engineering', 'Sales', 'Engineering', 'HR', 'Marketing', 'Sales', 'Engineering', 'Marketing', 'HR']\n",
    "}\n",
    "\n"
   ]
  },
  {
   "cell_type": "code",
   "execution_count": null,
   "id": "ac5b9a47",
   "metadata": {},
   "outputs": [],
   "source": [
    "# Create DataFrame\n",
    "df = pd.DataFrame(data)\n",
    "\n"
   ]
  },
  {
   "cell_type": "code",
   "execution_count": null,
   "id": "bf9ca44a",
   "metadata": {},
   "outputs": [],
   "source": [
    "# Save to CSV\n",
    "df.to_csv('example.csv', index=False)\n",
    "\n"
   ]
  },
  {
   "cell_type": "code",
   "execution_count": null,
   "id": "e67f5457",
   "metadata": {},
   "outputs": [],
   "source": [
    "print(\"CSV file created successfully!\")"
   ]
  }
 ],
 "metadata": {
  "language_info": {
   "name": "python"
  }
 },
 "nbformat": 4,
 "nbformat_minor": 5
}
