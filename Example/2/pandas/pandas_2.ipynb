{
 "cells": [
  {
   "cell_type": "code",
   "execution_count": null,
   "id": "cf47b6c8",
   "metadata": {},
   "outputs": [],
   "source": [
    "import pandas as pd\n",
    "\n",
    "\n"
   ]
  },
  {
   "cell_type": "code",
   "execution_count": null,
   "id": "760bcd90",
   "metadata": {},
   "outputs": [],
   "source": [
    "# Read a CSV file into a DataFrame\n",
    "file_path = './example.csv'  # replace with your file path\n",
    "df = pd.read_csv(file_path)\n",
    "\n"
   ]
  },
  {
   "cell_type": "code",
   "execution_count": null,
   "id": "62653956",
   "metadata": {},
   "outputs": [],
   "source": [
    "# Display the first few rows of the DataFrame\n",
    "print(\"First 5 rows of the DataFrame:\")\n",
    "print(df.head())\n",
    "\n"
   ]
  },
  {
   "cell_type": "code",
   "execution_count": null,
   "id": "4566f644",
   "metadata": {},
   "outputs": [],
   "source": [
    "# Get basic information about the DataFrame\n",
    "print(\"\\nDataFrame Information:\")\n",
    "print(df.info())\n",
    "\n"
   ]
  },
  {
   "cell_type": "code",
   "execution_count": null,
   "id": "461bf0cd",
   "metadata": {},
   "outputs": [],
   "source": [
    "# Get basic statistics of the DataFrame\n",
    "print(\"\\nDataFrame Statistics:\")\n",
    "print(df.describe())\n",
    "\n"
   ]
  },
  {
   "cell_type": "code",
   "execution_count": null,
   "id": "2ca768c1",
   "metadata": {},
   "outputs": [],
   "source": [
    "# Select a specific column\n",
    "column = df['salary']  \n",
    "print(\"\\nSelected Column (Salary):\")\n",
    "print(column)\n",
    "\n"
   ]
  },
  {
   "cell_type": "code",
   "execution_count": null,
   "id": "74b70423",
   "metadata": {},
   "outputs": [],
   "source": [
    "# Filter rows based on a condition\n",
    "filtered_df = df[df['age'] > 30] \n",
    "print(\"\\nFiltered DataFrame (age > 30):\")\n",
    "print(filtered_df)\n",
    "\n"
   ]
  },
  {
   "cell_type": "code",
   "execution_count": null,
   "id": "4d219ac7",
   "metadata": {},
   "outputs": [],
   "source": [
    "# Create a new column based on existing columns\n",
    "df['salary_increase'] = df['salary'] * 1.1  \n",
    "print(\"\\nDataFrame with New Column (Salary Increase):\")\n",
    "print(df.head())\n",
    "\n"
   ]
  },
  {
   "cell_type": "code",
   "execution_count": null,
   "id": "adc8ab1d",
   "metadata": {},
   "outputs": [],
   "source": [
    "# Group by a column and calculate aggregate statistics\n",
    "grouped_df = df.groupby('department').agg({'salary': 'mean'}) \n",
    "print(\"\\nGrouped DataFrame (mean salary):\")\n",
    "print(grouped_df)\n",
    "\n",
    "\n"
   ]
  },
  {
   "cell_type": "code",
   "execution_count": null,
   "id": "2bb8cb73",
   "metadata": {},
   "outputs": [],
   "source": [
    "# Handle missing values\n",
    "df_filled = df.fillna(0)  \n",
    "print(\"\\nDataFrame with Filled NaN Values:\")\n",
    "print(df_filled.head())\n",
    "\n"
   ]
  },
  {
   "cell_type": "code",
   "execution_count": null,
   "id": "1d999232",
   "metadata": {},
   "outputs": [],
   "source": [
    "# Save the processed DataFrame to a new CSV file\n",
    "df.to_csv('processed_example.csv', index=False)"
   ]
  },
  {
   "cell_type": "code",
   "execution_count": null,
   "id": "0a7824d9",
   "metadata": {},
   "outputs": [],
   "source": []
  },
  {
   "cell_type": "code",
   "execution_count": null,
   "id": "6e1c25ca",
   "metadata": {},
   "outputs": [],
   "source": []
  }
 ],
 "metadata": {
  "language_info": {
   "name": "python"
  }
 },
 "nbformat": 4,
 "nbformat_minor": 5
}
