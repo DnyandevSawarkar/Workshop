{
 "cells": [
  {
   "cell_type": "code",
   "execution_count": null,
   "id": "64f38d50",
   "metadata": {},
   "outputs": [],
   "source": [
    "from tkinter import *"
   ]
  },
  {
   "cell_type": "code",
   "execution_count": null,
   "id": "4a7dd8b1",
   "metadata": {},
   "outputs": [],
   "source": [
    "top = Tk()\n"
   ]
  },
  {
   "cell_type": "code",
   "execution_count": null,
   "id": "e8ef7b43",
   "metadata": {},
   "outputs": [],
   "source": [
    "\n",
    "resultStr= StringVar()\n",
    "resultStr.set(\"Enter Numbers and Click the Button\")\n",
    "number1Label = Label (text=\"First Number\")\n",
    "number1Label.pack()\n",
    "number1Box = Entry()\n",
    "number1Box.pack()\n",
    "\n",
    "number2Label = Label (text=\"Second Number\")\n",
    "number2Label.pack()\n",
    "number2Box = Entry()\n",
    "number2Box.pack()\n",
    "\n",
    "resultLabel = Label(textvariable=resultStr)\n",
    "resultLabel.pack()\n",
    "\n"
   ]
  },
  {
   "cell_type": "code",
   "execution_count": null,
   "id": "38bf5e55",
   "metadata": {},
   "outputs": [],
   "source": [
    "def addNo():\n",
    "    no1 = int(number1Box.get())\n",
    "    no2 = int(number2Box.get())\n",
    "    no3 = no1+no2\n",
    "    resultStr.set( \"The Sum is \"+str(no3))\n",
    "but = Button(text=\"Add\", command=addNo)\n",
    "but.pack()\n",
    "\n"
   ]
  },
  {
   "cell_type": "code",
   "execution_count": null,
   "id": "266a45e9",
   "metadata": {},
   "outputs": [],
   "source": [
    "top.mainloop()"
   ]
  },
  {
   "cell_type": "code",
   "execution_count": null,
   "id": "4aa09d11",
   "metadata": {},
   "outputs": [],
   "source": []
  },
  {
   "cell_type": "code",
   "execution_count": null,
   "id": "5ec9a30b",
   "metadata": {},
   "outputs": [],
   "source": []
  }
 ],
 "metadata": {
  "language_info": {
   "name": "python"
  }
 },
 "nbformat": 4,
 "nbformat_minor": 5
}
