{
 "cells": [
  {
   "cell_type": "code",
   "execution_count": null,
   "id": "f5229300",
   "metadata": {},
   "outputs": [],
   "source": [
    "\n",
    "import openai\n",
    "openai.api_key = ''\n",
    "\n",
    "messages = [\n",
    "    {\"role\": \"system\", \"content\": \"You are a kind helpful assistant.\"},\n",
    "]\n",
    "\n",
    "def text_work(work_prompt):\n",
    "    message = str(work_prompt)\n",
    "    if message:\n",
    "        messages.append(\n",
    "            {\"role\": \"user\", \"content\": message},\n",
    "        )\n",
    "        chat = openai.ChatCompletion.create(\n",
    "            model=\"gpt-3.5-turbo\", messages=messages\n",
    "        )\n",
    "\n",
    "        reply = chat.choices[0].message.content\n",
    "        #print(f\"Neptune AI: {reply}\")\n",
    "        messages.append({\"role\": \"assistant\", \"content\": reply})\n",
    "        # print(chat)\n",
    "        return {\"answer\": chat.choices[0].message.content}\n",
    "    \n",
    "if __name__ == \"__main__\":\n",
    "    while(1):\n",
    "        _ = input(\"Enter you Prompt\")\n",
    "        print(text_work(_))"
   ]
  }
 ],
 "metadata": {},
 "nbformat": 4,
 "nbformat_minor": 5
}
