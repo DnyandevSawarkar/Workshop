{
 "cells": [
  {
   "cell_type": "code",
   "execution_count": null,
   "id": "ece372ce",
   "metadata": {},
   "outputs": [],
   "source": [
    "import pyttsx3\n",
    " \n",
    "# init function to get an engine instance for the speech synthesis \n",
    "engine = pyttsx3.init()\n",
    " \n",
    "# say method on the engine that passing input text to be spoken\n",
    "engine.say('Hello , How may I help you.')\n",
    " \n",
    "# run and wait method, it processes the voice commands. \n",
    "engine.runAndWait()"
   ]
  }
 ],
 "metadata": {},
 "nbformat": 4,
 "nbformat_minor": 5
}
