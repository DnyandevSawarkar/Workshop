{
 "cells": [
  {
   "cell_type": "code",
   "execution_count": null,
   "id": "7eba5074",
   "metadata": {},
   "outputs": [],
   "source": [
    "import os\n",
    "import nbformat\n",
    "from nbformat.v4 import new_notebook, new_code_cell\n",
    "\n",
    "def convert_py_to_ipynb(py_file_path, ipynb_file_path):\n",
    "    with open(py_file_path, 'r') as py_file:\n",
    "        code = py_file.read()\n",
    "    nb = new_notebook(cells=[new_code_cell(code)])\n",
    "    with open(ipynb_file_path, 'w') as ipynb_file:\n",
    "        nbformat.write(nb, ipynb_file)\n",
    "\n",
    "def convert_all_py_to_ipynb(root_dir):\n",
    "    for subdir, _, files in os.walk(root_dir):\n",
    "        for file in files:\n",
    "            if file.endswith('.py'):\n",
    "                py_file_path = os.path.join(subdir, file)\n",
    "                ipynb_file_path = os.path.splitext(py_file_path)[0] + '.ipynb'\n",
    "                convert_py_to_ipynb(py_file_path, ipynb_file_path)\n",
    "                print(f'Converted {py_file_path} to {ipynb_file_path}')\n",
    "\n",
    "if __name__ == \"__main__\":\n",
    "    root_directory = 'E:\\\\New folder\\\\Workshop\\\\Notebook'  # Replace with the path to your directory\n",
    "    convert_all_py_to_ipynb(root_directory)\n"
   ]
  }
 ],
 "metadata": {},
 "nbformat": 4,
 "nbformat_minor": 5
}
