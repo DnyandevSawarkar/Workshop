{
 "cells": [
  {
   "cell_type": "code",
   "execution_count": null,
   "id": "0a2d0827",
   "metadata": {},
   "outputs": [],
   "source": [
    "import pyttsx3\n",
    "engine=pyttsx3.init()\n",
    "while(True):\n",
    "    \n",
    "    print(\"1. Withdraw\")\n",
    "    print(\"2. Check Balance\")\n",
    "    print(\"3. exit\")\n",
    "    engine.say(\"Enter your choice\")\n",
    "    engine.runAndWait()\n",
    "\n",
    "    i=int(input(\"Enter your choice\"))\n",
    "\n",
    "    if i==1:\n",
    "        engine.say(\"Withdraw Successful\")\n",
    "        engine.runAndWait()\n",
    "    elif i==2:\n",
    "        engine.say(\"Your are billionare\")\n",
    "        engine.runAndWait()\n",
    "    elif i==3:\n",
    "        engine.say(\"exit\")\n",
    "        engine.runAndWait()\n",
    "        break\n",
    "\n"
   ]
  }
 ],
 "metadata": {},
 "nbformat": 4,
 "nbformat_minor": 5
}
