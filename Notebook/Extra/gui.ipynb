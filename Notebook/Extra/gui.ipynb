{
 "cells": [
  {
   "cell_type": "code",
   "execution_count": null,
   "id": "0b433878",
   "metadata": {},
   "outputs": [],
   "source": [
    "from tkinter import *\n",
    "\n",
    "top = Tk()\n",
    "\n",
    "resultStr= StringVar()\n",
    "resultStr.set(\"Enter Numbers and Click the Button\")\n",
    "number1Label = Label (text=\"First Number\")\n",
    "number1Label.pack()\n",
    "number1Box = Entry()\n",
    "number1Box.pack()\n",
    "\n",
    "number2Label = Label (text=\"Second Number\")\n",
    "number2Label.pack()\n",
    "number2Box = Entry()\n",
    "number2Box.pack()\n",
    "\n",
    "resultLabel = Label(textvariable=resultStr)\n",
    "resultLabel.pack()\n",
    "\n",
    "def addNo():\n",
    "    no1 = int(number1Box.get())\n",
    "    no2 = int(number2Box.get())\n",
    "    no3 = no1+no2\n",
    "    resultStr.set( \"The Sum is \"+str(no3))\n",
    "but = Button(text=\"Add\", command=addNo)\n",
    "but.pack()\n",
    "\n",
    "top.mainloop()\n"
   ]
  }
 ],
 "metadata": {},
 "nbformat": 4,
 "nbformat_minor": 5
}
