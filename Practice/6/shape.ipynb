{
 "cells": [
  {
   "cell_type": "code",
   "execution_count": null,
   "id": "412d0e66",
   "metadata": {},
   "outputs": [],
   "source": [
    "import pygame\n",
    "import sys\n",
    "\n"
   ]
  },
  {
   "cell_type": "code",
   "execution_count": null,
   "id": "9a64faa3",
   "metadata": {},
   "outputs": [],
   "source": [
    "# Set up display\n",
    "WIDTH, HEIGHT = 800, 600\n",
    "WIN = pygame.display.set_mode((WIDTH, HEIGHT))\n",
    "pygame.display.set_caption(\"Move Shapes with Keyboard\")\n",
    "\n",
    "# Colors\n",
    "WHITE = (255, 255, 255)\n",
    "RED = (255, 0, 0)\n",
    "BLUE = (0, 0, 255)\n",
    "GREEN = (0, 255, 0)"
   ]
  },
  {
   "cell_type": "code",
   "execution_count": null,
   "id": "be169746",
   "metadata": {},
   "outputs": [],
   "source": [
    "# Initialize Pygame\n",
    "pygame.init()"
   ]
  },
  {
   "cell_type": "code",
   "execution_count": null,
   "id": "50b6d3b0",
   "metadata": {},
   "outputs": [],
   "source": [
    "# Shapes and their positions\n",
    "shapes = [\n",
    "    {\"type\": \"circle\", \"pos\": [200, 300], \"radius\": 30, \"color\": RED},\n",
    "    {\"type\": \"square\", \"pos\": [400, 300], \"size\": 60, \"color\": BLUE},\n",
    "    {\"type\": \"triangle\", \"pos\": [600, 300], \"size\": 60, \"color\": GREEN}\n",
    "]\n",
    "selected_shape = None"
   ]
  },
  {
   "cell_type": "code",
   "execution_count": null,
   "id": "a94b9962",
   "metadata": {},
   "outputs": [],
   "source": [
    "# Game loop\n",
    "clock = pygame.time.Clock()\n",
    "run = True"
   ]
  },
  {
   "cell_type": "code",
   "execution_count": null,
   "id": "40eaeefa",
   "metadata": {},
   "outputs": [],
   "source": [
    "while run:\n",
    "    clock.tick(60)  # 60 FPS\n",
    "\n",
    "    # Event handling\n",
    "    for event in pygame.event.get():\n",
    "        if event.type == pygame.QUIT:\n",
    "            run = False\n",
    "\n",
    "        elif event.type == pygame.MOUSEBUTTONDOWN:\n",
    "            mouse_x, mouse_y = event.pos\n",
    "            for shape in shapes:\n",
    "                if shape[\"type\"] == \"circle\":\n",
    "                    dx = mouse_x - shape[\"pos\"][0]\n",
    "                    dy = mouse_y - shape[\"pos\"][1]\n",
    "                    if dx * dx + dy * dy <= shape[\"radius\"] * shape[\"radius\"]:\n",
    "                        selected_shape = shape\n",
    "                        break\n",
    "                elif shape[\"type\"] == \"square\":\n",
    "                    x, y = shape[\"pos\"]\n",
    "                    size = shape[\"size\"]\n",
    "                    if x - size // 2 <= mouse_x <= x + size // 2 and y - size // 2 <= mouse_y <= y + size // 2:\n",
    "                        selected_shape = shape\n",
    "                        break\n",
    "                elif shape[\"type\"] == \"triangle\":\n",
    "                    x, y = shape[\"pos\"]\n",
    "                    size = shape[\"size\"]\n",
    "                    if x - size // 2 <= mouse_x <= x + size // 2 and y - size // 2 <= mouse_y <= y + size // 2:\n",
    "                        selected_shape = shape\n",
    "                        break\n",
    "\n",
    "        elif event.type == pygame.KEYDOWN and selected_shape is not None:\n",
    "            if event.key == pygame.K_LEFT:\n",
    "                selected_shape[\"pos\"][0] -= 5\n",
    "            elif event.key == pygame.K_RIGHT:\n",
    "                selected_shape[\"pos\"][0] += 5\n",
    "            elif event.key == pygame.K_UP:\n",
    "                selected_shape[\"pos\"][1] -= 5\n",
    "            elif event.key == pygame.K_DOWN:\n",
    "                selected_shape[\"pos\"][1] += 5\n",
    "\n",
    "    # Redraw display\n",
    "    WIN.fill(WHITE)  # Fill window with white color\n",
    "\n",
    "    for shape in shapes:\n",
    "        if shape[\"type\"] == \"circle\":\n",
    "            pygame.draw.circle(WIN, shape[\"color\"], shape[\"pos\"], shape[\"radius\"])\n",
    "        elif shape[\"type\"] == \"square\":\n",
    "            x, y = shape[\"pos\"]\n",
    "            size = shape[\"size\"]\n",
    "            pygame.draw.rect(WIN, shape[\"color\"], (x - size // 2, y - size // 2, size, size))\n",
    "        elif shape[\"type\"] == \"triangle\":\n",
    "            x, y = shape[\"pos\"]\n",
    "            size = shape[\"size\"]\n",
    "            points = [\n",
    "                (x, y - size // 2),\n",
    "                (x - size // 2, y + size // 2),\n",
    "                (x + size // 2, y + size // 2)\n",
    "            ]\n",
    "            pygame.draw.polygon(WIN, shape[\"color\"], points)\n",
    "\n",
    "    pygame.display.update()"
   ]
  },
  {
   "cell_type": "code",
   "execution_count": null,
   "id": "74f6f814",
   "metadata": {},
   "outputs": [],
   "source": [
    "pygame.quit()\n",
    "sys.exit()"
   ]
  },
  {
   "cell_type": "code",
   "execution_count": null,
   "id": "3900fc81",
   "metadata": {},
   "outputs": [],
   "source": []
  },
  {
   "cell_type": "code",
   "execution_count": null,
   "id": "0a607998",
   "metadata": {},
   "outputs": [],
   "source": []
  },
  {
   "cell_type": "code",
   "execution_count": null,
   "id": "a0766c2b",
   "metadata": {},
   "outputs": [],
   "source": []
  },
  {
   "cell_type": "code",
   "execution_count": null,
   "id": "731af408",
   "metadata": {},
   "outputs": [],
   "source": []
  }
 ],
 "metadata": {
  "language_info": {
   "name": "python"
  }
 },
 "nbformat": 4,
 "nbformat_minor": 5
}
