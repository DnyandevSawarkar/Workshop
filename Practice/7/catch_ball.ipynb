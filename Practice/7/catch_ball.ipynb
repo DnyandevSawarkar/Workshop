{
 "cells": [
  {
   "cell_type": "code",
   "execution_count": null,
   "id": "998cdf1a",
   "metadata": {},
   "outputs": [],
   "source": [
    "import pygame\n",
    "import random\n",
    "import sys\n",
    "\n"
   ]
  },
  {
   "cell_type": "code",
   "execution_count": null,
   "id": "5ed04222",
   "metadata": {},
   "outputs": [],
   "source": [
    "# Initialize Pygame\n",
    "pygame.init()\n"
   ]
  },
  {
   "cell_type": "code",
   "execution_count": null,
   "id": "bbca427c",
   "metadata": {},
   "outputs": [],
   "source": [
    "# Set up display\n",
    "WIDTH, HEIGHT = 800, 600\n",
    "WIN = pygame.display.set_mode((WIDTH, HEIGHT))\n",
    "pygame.display.set_caption(\"Catch the Falling Balls\")"
   ]
  },
  {
   "cell_type": "code",
   "execution_count": null,
   "id": "418be5fd",
   "metadata": {},
   "outputs": [],
   "source": [
    "# Colors\n",
    "WHITE = (255, 255, 255)\n",
    "RED = (255, 0, 0)\n",
    "BLUE = (0, 0, 255)"
   ]
  },
  {
   "cell_type": "code",
   "execution_count": null,
   "id": "9c084b35",
   "metadata": {},
   "outputs": [],
   "source": [
    "# Basket properties\n",
    "BASKET_WIDTH, BASKET_HEIGHT = 100, 20\n",
    "basket_x = WIDTH // 2 - BASKET_WIDTH // 2\n",
    "basket_y = HEIGHT - BASKET_HEIGHT - 10\n",
    "basket_speed = 10"
   ]
  },
  {
   "cell_type": "code",
   "execution_count": null,
   "id": "c014c1f1",
   "metadata": {},
   "outputs": [],
   "source": [
    "# Ball properties\n",
    "BALL_RADIUS = 10\n",
    "ball_speed = 5\n",
    "balls = []\n"
   ]
  },
  {
   "cell_type": "code",
   "execution_count": null,
   "id": "df631d95",
   "metadata": {},
   "outputs": [],
   "source": [
    "# Game loop control\n",
    "clock = pygame.time.Clock()\n",
    "run = True"
   ]
  },
  {
   "cell_type": "code",
   "execution_count": null,
   "id": "f28fed8b",
   "metadata": {},
   "outputs": [],
   "source": [
    "def create_ball():\n",
    "    x = random.randint(BALL_RADIUS, WIDTH - BALL_RADIUS)\n",
    "    y = -BALL_RADIUS\n",
    "    return [x, y]"
   ]
  },
  {
   "cell_type": "code",
   "execution_count": null,
   "id": "8c7d234d",
   "metadata": {},
   "outputs": [],
   "source": [
    "def draw_window():\n",
    "    WIN.fill(WHITE)\n",
    "    pygame.draw.rect(WIN, BLUE, (basket_x, basket_y, BASKET_WIDTH, BASKET_HEIGHT))\n",
    "    for ball in balls:\n",
    "        pygame.draw.circle(WIN, RED, (ball[0], ball[1]), BALL_RADIUS)\n",
    "    pygame.display.update()"
   ]
  },
  {
   "cell_type": "code",
   "execution_count": null,
   "id": "ac410bac",
   "metadata": {},
   "outputs": [],
   "source": [
    "while run:\n",
    "    clock.tick(30)  # 30 FPS\n",
    "\n",
    "    # Event handling\n",
    "    for event in pygame.event.get():\n",
    "        if event.type == pygame.QUIT:\n",
    "            run = False\n",
    "\n",
    "    # Control basket movement\n",
    "    keys = pygame.key.get_pressed()\n",
    "    if keys[pygame.K_LEFT] and basket_x - basket_speed > 0:\n",
    "        basket_x -= basket_speed\n",
    "    if keys[pygame.K_RIGHT] and basket_x + basket_speed + BASKET_WIDTH < WIDTH:\n",
    "        basket_x += basket_speed\n",
    "\n",
    "    # Create a new ball periodically\n",
    "    if random.randint(1, 20) == 1:\n",
    "        balls.append(create_ball())\n",
    "\n",
    "    # Update ball positions and check for collisions\n",
    "    for ball in balls[:]:\n",
    "        ball[1] += ball_speed\n",
    "        if ball[1] > HEIGHT:\n",
    "            balls.remove(ball)\n",
    "        # Check if ball collides with the basket\n",
    "        if (basket_x < ball[0] < basket_x + BASKET_WIDTH) and (basket_y < ball[1] + BALL_RADIUS < basket_y + BASKET_HEIGHT):\n",
    "            balls.remove(ball)\n",
    "\n",
    "    draw_window()"
   ]
  },
  {
   "cell_type": "code",
   "execution_count": null,
   "id": "5b97f28b",
   "metadata": {},
   "outputs": [],
   "source": [
    "pygame.quit()\n",
    "sys.exit()"
   ]
  },
  {
   "cell_type": "code",
   "execution_count": null,
   "id": "5338f6fb",
   "metadata": {},
   "outputs": [],
   "source": []
  },
  {
   "cell_type": "code",
   "execution_count": null,
   "id": "e311d002",
   "metadata": {},
   "outputs": [],
   "source": []
  },
  {
   "cell_type": "code",
   "execution_count": null,
   "id": "fb53c623",
   "metadata": {},
   "outputs": [],
   "source": []
  }
 ],
 "metadata": {
  "language_info": {
   "name": "python"
  }
 },
 "nbformat": 4,
 "nbformat_minor": 5
}
