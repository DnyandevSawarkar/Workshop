{
 "cells": [
  {
   "cell_type": "code",
   "execution_count": null,
   "id": "4535a04d",
   "metadata": {},
   "outputs": [],
   "source": [
    "import tkinter as tk\n",
    "from tkinter import messagebox\n",
    "import openai\n",
    "import speech_recognition as sr\n",
    "import pyttsx3\n",
    "\n",
    "\n"
   ]
  },
  {
   "cell_type": "code",
   "execution_count": null,
   "id": "f861890f",
   "metadata": {},
   "outputs": [],
   "source": [
    "# OpenAI API key\n",
    "openai.api_key = ''\n",
    "\n",
    "\n"
   ]
  },
  {
   "cell_type": "code",
   "execution_count": null,
   "id": "102eef0d",
   "metadata": {},
   "outputs": [],
   "source": [
    "# Initialize SpeechRecognition recognizer and pyttsx3 engine\n",
    "recognizer = sr.Recognizer()\n",
    "engine = pyttsx3.init()\n",
    "\n"
   ]
  },
  {
   "cell_type": "code",
   "execution_count": null,
   "id": "5c82b0a0",
   "metadata": {},
   "outputs": [],
   "source": [
    "# List to store chat messages\n",
    "messages = [{\"role\": \"system\", \"content\": \"You are a kind helpful assistant.\"}]"
   ]
  },
  {
   "cell_type": "code",
   "execution_count": null,
   "id": "493f0ebc",
   "metadata": {},
   "outputs": [],
   "source": [
    "def text_work(work_prompt):\n",
    "    message = str(work_prompt)\n",
    "    if message:\n",
    "        messages.append({\"role\": \"user\", \"content\": message})\n",
    "        chat = openai.ChatCompletion.create(model=\"gpt-3.5-turbo\", messages=messages)\n",
    "        reply = chat.choices[0].message.content\n",
    "        messages.append({\"role\": \"assistant\", \"content\": reply})\n",
    "        return {\"answer\": chat.choices[0].message.content}"
   ]
  },
  {
   "cell_type": "code",
   "execution_count": null,
   "id": "1f8643df",
   "metadata": {},
   "outputs": [],
   "source": [
    "def listen():\n",
    "    with sr.Microphone() as source:\n",
    "        print(\"Listening...\")\n",
    "        recognizer.adjust_for_ambient_noise(source, duration=1)\n",
    "        audio = recognizer.listen(source)\n",
    "    try:\n",
    "        print(\"Recognizing...\")\n",
    "        query = recognizer.recognize_google(audio)\n",
    "        print(f\"User: {query}\")\n",
    "        return query\n",
    "    except Exception as e:\n",
    "        print(e)\n",
    "        return \"\""
   ]
  },
  {
   "cell_type": "code",
   "execution_count": null,
   "id": "9e604115",
   "metadata": {},
   "outputs": [],
   "source": [
    "def speak(text):\n",
    "    engine.say(text)\n",
    "    engine.runAndWait()"
   ]
  },
  {
   "cell_type": "code",
   "execution_count": null,
   "id": "4c363dcd",
   "metadata": {},
   "outputs": [],
   "source": [
    "def assistant():\n",
    "    # Listen for user input (voice)\n",
    "    user_input = listen()\n",
    "    if user_input:\n",
    "        # Process user input and get AI response\n",
    "        ai_response = text_work(user_input)\n",
    "        if ai_response:\n",
    "            # Print AI response\n",
    "            print(f\"AI: {ai_response['answer']}\")\n",
    "            # Speak AI response\n",
    "            speak(ai_response['answer'])"
   ]
  },
  {
   "cell_type": "code",
   "execution_count": null,
   "id": "9e261fe5",
   "metadata": {},
   "outputs": [],
   "source": [
    "# Create a Tkinter window\n",
    "root = tk.Tk()\n",
    "root.title(\"AI Assistant\")\n",
    "root.geometry(\"200x100\")"
   ]
  },
  {
   "cell_type": "code",
   "execution_count": null,
   "id": "48d47d62",
   "metadata": {},
   "outputs": [],
   "source": [
    "# Function to trigger the assistant function\n",
    "def trigger_assistant():\n",
    "    assistant()"
   ]
  },
  {
   "cell_type": "code",
   "execution_count": null,
   "id": "624df136",
   "metadata": {},
   "outputs": [],
   "source": [
    "# Create a button to trigger the assistant function\n",
    "button = tk.Button(root, text=\"Start Assistant\", command=trigger_assistant)\n",
    "button.pack()\n",
    "\n",
    "# Run the Tkinter event loop\n",
    "root.mainloop()"
   ]
  }
 ],
 "metadata": {
  "language_info": {
   "name": "python"
  }
 },
 "nbformat": 4,
 "nbformat_minor": 5
}
