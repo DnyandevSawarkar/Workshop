{
 "cells": [
  {
   "cell_type": "code",
   "execution_count": null,
   "id": "9b5cc9da",
   "metadata": {},
   "outputs": [],
   "source": [
    "import openai\n",
    "import speech_recognition as sr\n",
    "import pyttsx3\n"
   ]
  },
  {
   "cell_type": "code",
   "execution_count": null,
   "id": "25660386",
   "metadata": {},
   "outputs": [],
   "source": [
    "# OpenAI API key\n",
    "openai.api_key = ''"
   ]
  },
  {
   "cell_type": "code",
   "execution_count": null,
   "id": "cee2a2e2",
   "metadata": {},
   "outputs": [],
   "source": [
    "# Initialize SpeechRecognition recognizer and pyttsx3 engine\n",
    "recognizer = sr.Recognizer()\n",
    "engine = pyttsx3.init()"
   ]
  },
  {
   "cell_type": "code",
   "execution_count": null,
   "id": "6a3d29c8",
   "metadata": {},
   "outputs": [],
   "source": [
    "# List to store chat messages\n",
    "messages = [{\"role\": \"system\", \"content\": \"You are a kind helpful assistant.\"}]"
   ]
  },
  {
   "cell_type": "code",
   "execution_count": null,
   "id": "f0fdb2cb",
   "metadata": {},
   "outputs": [],
   "source": [
    "def text_work(work_prompt):\n",
    "    message = str(work_prompt)\n",
    "    if message:\n",
    "        messages.append({\"role\": \"user\", \"content\": message})\n",
    "        chat = openai.ChatCompletion.create(model=\"gpt-3.5-turbo\", messages=messages)\n",
    "        reply = chat.choices[0].message.content\n",
    "        messages.append({\"role\": \"assistant\", \"content\": reply})\n",
    "        return {\"answer\": chat.choices[0].message.content}"
   ]
  },
  {
   "cell_type": "code",
   "execution_count": null,
   "id": "dd43207c",
   "metadata": {},
   "outputs": [],
   "source": [
    "\n",
    "def listen():\n",
    "    with sr.Microphone() as source:\n",
    "        print(\"Listening...\")\n",
    "        recognizer.adjust_for_ambient_noise(source, duration=1)\n",
    "        audio = recognizer.listen(source)\n",
    "    try:\n",
    "        print(\"Recognizing...\")\n",
    "        query = recognizer.recognize_google(audio)\n",
    "        print(f\"User: {query}\")\n",
    "        return query\n",
    "    except Exception as e:\n",
    "        print(e)\n",
    "        return \"\""
   ]
  },
  {
   "cell_type": "code",
   "execution_count": null,
   "id": "fbed5d40",
   "metadata": {},
   "outputs": [],
   "source": [
    "def speak(text):\n",
    "    engine.say(text)\n",
    "    engine.runAndWait()"
   ]
  },
  {
   "cell_type": "code",
   "execution_count": null,
   "id": "359e2433",
   "metadata": {},
   "outputs": [],
   "source": [
    "def assitant():\n",
    "    while True:\n",
    "        # Listen for user input (voice)\n",
    "        user_input = listen()\n",
    "        if user_input:\n",
    "            # Process user input and get AI response\n",
    "            ai_response = text_work(user_input)\n",
    "            if ai_response:\n",
    "                # Print AI response\n",
    "                print(f\"AI: {ai_response['answer']}\")\n",
    "                # Speak AI response\n",
    "                speak(ai_response['answer'])"
   ]
  },
  {
   "cell_type": "code",
   "execution_count": null,
   "id": "880b4aaa",
   "metadata": {},
   "outputs": [],
   "source": [
    "assitant()"
   ]
  }
 ],
 "metadata": {
  "language_info": {
   "name": "python"
  }
 },
 "nbformat": 4,
 "nbformat_minor": 5
}
