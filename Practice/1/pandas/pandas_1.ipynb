{
 "cells": [
  {
   "cell_type": "code",
   "execution_count": null,
   "id": "9710280b",
   "metadata": {},
   "outputs": [],
   "source": [
    "import pandas as pd\n",
    "\n"
   ]
  },
  {
   "cell_type": "code",
   "execution_count": null,
   "id": "e4c964be",
   "metadata": {},
   "outputs": [],
   "source": [
    "# Read student data from CSV file\n",
    "file_path = 'students.csv'\n",
    "df = pd.read_csv(file_path)"
   ]
  },
  {
   "cell_type": "code",
   "execution_count": null,
   "id": "48dce931",
   "metadata": {},
   "outputs": [],
   "source": [
    "# Display the first few rows of the DataFrame\n",
    "print(\"First 5 rows of the DataFrame:\")\n",
    "print(df.head())"
   ]
  },
  {
   "cell_type": "code",
   "execution_count": null,
   "id": "4aaf60f0",
   "metadata": {},
   "outputs": [],
   "source": [
    "# Get basic information about the DataFrame\n",
    "print(\"\\nDataFrame Information:\")\n",
    "print(df.info())\n"
   ]
  },
  {
   "cell_type": "code",
   "execution_count": null,
   "id": "dbc1361c",
   "metadata": {},
   "outputs": [],
   "source": [
    "# Get basic statistics of the DataFrame\n",
    "print(\"\\nDataFrame Statistics:\")\n",
    "print(df.describe())"
   ]
  },
  {
   "cell_type": "code",
   "execution_count": null,
   "id": "fd7d3421",
   "metadata": {},
   "outputs": [],
   "source": [
    "\n",
    "# Select a specific column\n",
    "column = df['Grade']\n",
    "print(\"\\nSelected Column (Grade):\")\n",
    "print(column)"
   ]
  },
  {
   "cell_type": "code",
   "execution_count": null,
   "id": "ac488852",
   "metadata": {},
   "outputs": [],
   "source": [
    "# Filter rows based on a condition\n",
    "filtered_df = df[df['Age'] > 20]\n",
    "print(\"\\nFiltered DataFrame (Age > 20):\")\n",
    "print(filtered_df)\n"
   ]
  },
  {
   "cell_type": "code",
   "execution_count": null,
   "id": "84b2766b",
   "metadata": {},
   "outputs": [],
   "source": [
    "# Create a new column based on existing columns\n",
    "df['Total Marks'] = df['Maths'] + df['Physics'] + df['Chemistry']\n",
    "print(\"\\nDataFrame with New Column (Total Marks):\")\n",
    "print(df.head())"
   ]
  },
  {
   "cell_type": "code",
   "execution_count": null,
   "id": "31315b95",
   "metadata": {},
   "outputs": [],
   "source": [
    "# Group by a column and calculate aggregate statistics\n",
    "grouped_df = df.groupby('Gender').agg({'Maths': 'mean', 'Physics': 'mean', 'Chemistry': 'mean'})\n",
    "print(\"\\nGrouped DataFrame (mean by Gender):\")\n",
    "print(grouped_df)"
   ]
  },
  {
   "cell_type": "code",
   "execution_count": null,
   "id": "1141ebff",
   "metadata": {},
   "outputs": [],
   "source": [
    "# Handle missing values\n",
    "df_filled = df.fillna(0)\n",
    "print(\"\\nDataFrame with Filled NaN Values:\")\n",
    "print(df_filled.head())\n"
   ]
  },
  {
   "cell_type": "code",
   "execution_count": null,
   "id": "17eedbd0",
   "metadata": {},
   "outputs": [],
   "source": [
    "\n",
    "# Save the processed DataFrame to a new CSV file\n",
    "df.to_csv('processed_students.csv', index=False)"
   ]
  }
 ],
 "metadata": {
  "language_info": {
   "name": "python"
  }
 },
 "nbformat": 4,
 "nbformat_minor": 5
}
