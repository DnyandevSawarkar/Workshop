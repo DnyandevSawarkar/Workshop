{
 "cells": [
  {
   "cell_type": "code",
   "execution_count": null,
   "id": "62a2ca57",
   "metadata": {},
   "outputs": [],
   "source": [
    "import numpy as np\n",
    "\n"
   ]
  },
  {
   "cell_type": "code",
   "execution_count": null,
   "id": "af3607db",
   "metadata": {},
   "outputs": [],
   "source": [
    "# Create a NumPy array from a list\n",
    "arr = np.array([1, 2, 3, 4, 5])"
   ]
  },
  {
   "cell_type": "code",
   "execution_count": null,
   "id": "e10f0577",
   "metadata": {},
   "outputs": [],
   "source": [
    "\n",
    "\n",
    "print(\"Original array:\")\n",
    "print(arr)\n"
   ]
  },
  {
   "cell_type": "code",
   "execution_count": null,
   "id": "9fafa809",
   "metadata": {},
   "outputs": [],
   "source": [
    "# Accessing elements\n",
    "print(\"\\nAccessing elements:\")\n",
    "print(\"First element:\", arr[0])\n",
    "print(\"Last element:\", arr[-1])\n",
    "print(\"Slice of array:\", arr[2:4])"
   ]
  },
  {
   "cell_type": "code",
   "execution_count": null,
   "id": "3fe9e5c8",
   "metadata": {},
   "outputs": [],
   "source": [
    "# Array shape and dimensions\n",
    "print(\"\\nArray shape and dimensions:\")\n",
    "print(\"Shape:\", arr.shape)\n",
    "print(\"Dimensions:\", arr.ndim)\n",
    "print(\"Size:\", arr.size)"
   ]
  },
  {
   "cell_type": "code",
   "execution_count": null,
   "id": "76bfa688",
   "metadata": {},
   "outputs": [],
   "source": [
    "# Reshaping array\n",
    "print(\"\\nReshaping array:\")\n",
    "arr_reshaped = arr.reshape(5, 1)\n",
    "print(arr_reshaped)"
   ]
  },
  {
   "cell_type": "code",
   "execution_count": null,
   "id": "bf3f78e3",
   "metadata": {},
   "outputs": [],
   "source": [
    "# Array operations\n",
    "print(\"\\nArray operations:\")\n",
    "arr2 = np.array([6, 7, 8, 9, 10])\n",
    "print(\"Array 2:\", arr2)\n",
    "print(\"Addition:\", arr + arr2)\n",
    "print(\"Subtraction:\", arr - arr2)\n",
    "print(\"Multiplication:\", arr * arr2)\n",
    "print(\"Division:\", arr / arr2)"
   ]
  },
  {
   "cell_type": "code",
   "execution_count": null,
   "id": "e41eb708",
   "metadata": {},
   "outputs": [],
   "source": [
    "# Universal functions (ufunc)\n",
    "print(\"\\nUniversal functions:\")\n",
    "print(\"Square root:\", np.sqrt(arr))\n",
    "print(\"Exponential:\", np.exp(arr))\n",
    "print(\"Sin:\", np.sin(arr))"
   ]
  },
  {
   "cell_type": "code",
   "execution_count": null,
   "id": "71f32eea",
   "metadata": {},
   "outputs": [],
   "source": [
    "# Statistical functions\n",
    "print(\"\\nStatistical functions:\")\n",
    "print(\"Mean:\", np.mean(arr))\n",
    "print(\"Median:\", np.median(arr))\n",
    "print(\"Standard deviation:\", np.std(arr))\n",
    "print(\"Sum:\", np.sum(arr))\n",
    "print(\"Max:\", np.max(arr))\n",
    "print(\"Min:\", np.min(arr))"
   ]
  },
  {
   "cell_type": "code",
   "execution_count": null,
   "id": "f6ee5d1c",
   "metadata": {},
   "outputs": [],
   "source": []
  },
  {
   "cell_type": "code",
   "execution_count": null,
   "id": "de94bedc",
   "metadata": {},
   "outputs": [],
   "source": []
  },
  {
   "cell_type": "code",
   "execution_count": null,
   "id": "c35e5c12",
   "metadata": {},
   "outputs": [],
   "source": []
  },
  {
   "cell_type": "code",
   "execution_count": null,
   "id": "d0285595",
   "metadata": {},
   "outputs": [],
   "source": []
  }
 ],
 "metadata": {
  "language_info": {
   "name": "python"
  }
 },
 "nbformat": 4,
 "nbformat_minor": 5
}
