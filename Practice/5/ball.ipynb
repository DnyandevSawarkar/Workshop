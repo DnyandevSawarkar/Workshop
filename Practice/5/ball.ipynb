{
 "cells": [
  {
   "cell_type": "code",
   "execution_count": null,
   "id": "2797d7d9",
   "metadata": {},
   "outputs": [],
   "source": [
    "import pygame\n",
    "import sys\n",
    "\n"
   ]
  },
  {
   "cell_type": "code",
   "execution_count": null,
   "id": "56ab954b",
   "metadata": {},
   "outputs": [],
   "source": [
    "# Initialize Pygame\n",
    "pygame.init()"
   ]
  },
  {
   "cell_type": "code",
   "execution_count": null,
   "id": "2049b121",
   "metadata": {},
   "outputs": [],
   "source": [
    "# Set up display\n",
    "WIDTH, HEIGHT = 800, 600\n",
    "WIN = pygame.display.set_mode((WIDTH, HEIGHT))\n",
    "pygame.display.set_caption(\"Bouncing Ball Animation\")"
   ]
  },
  {
   "cell_type": "code",
   "execution_count": null,
   "id": "ae72857f",
   "metadata": {},
   "outputs": [],
   "source": [
    "# Set up ball variables\n",
    "ball_radius = 20\n",
    "ball_x, ball_y = WIDTH // 2, HEIGHT // 2\n",
    "ball_vel_x, ball_vel_y = 5, 5\n"
   ]
  },
  {
   "cell_type": "code",
   "execution_count": null,
   "id": "db041749",
   "metadata": {},
   "outputs": [],
   "source": [
    "# Colors\n",
    "WHITE = (255, 255, 255)\n",
    "RED = (255, 0, 0)"
   ]
  },
  {
   "cell_type": "code",
   "execution_count": null,
   "id": "5c416185",
   "metadata": {},
   "outputs": [],
   "source": [
    "# Game loop\n",
    "clock = pygame.time.Clock()\n",
    "run = True"
   ]
  },
  {
   "cell_type": "code",
   "execution_count": null,
   "id": "4f0e016e",
   "metadata": {},
   "outputs": [],
   "source": [
    "while run:\n",
    "    clock.tick(60)  # 60 FPS\n",
    "\n",
    "    # Event handling\n",
    "    for event in pygame.event.get():\n",
    "        if event.type == pygame.QUIT:\n",
    "            run = False\n",
    "\n",
    "    # Update ball position\n",
    "    ball_x += ball_vel_x\n",
    "    ball_y += ball_vel_y\n",
    "\n",
    "    # Bounce ball off the walls\n",
    "    if ball_x - ball_radius < 0 or ball_x + ball_radius > WIDTH:\n",
    "        ball_vel_x = -ball_vel_x\n",
    "    if ball_y - ball_radius < 0 or ball_y + ball_radius > HEIGHT:\n",
    "        ball_vel_y = -ball_vel_y\n",
    "\n",
    "    # Redraw display\n",
    "    WIN.fill(WHITE)  # Fill window with white color\n",
    "    pygame.draw.circle(WIN, RED, (ball_x, ball_y), ball_radius)  # Draw ball\n",
    "    pygame.display.update()"
   ]
  },
  {
   "cell_type": "code",
   "execution_count": null,
   "id": "b12e755b",
   "metadata": {},
   "outputs": [],
   "source": [
    "pygame.quit()\n",
    "sys.exit()"
   ]
  },
  {
   "cell_type": "code",
   "execution_count": null,
   "id": "7b770bfd",
   "metadata": {},
   "outputs": [],
   "source": []
  },
  {
   "cell_type": "code",
   "execution_count": null,
   "id": "e92f3641",
   "metadata": {},
   "outputs": [],
   "source": []
  }
 ],
 "metadata": {
  "language_info": {
   "name": "python"
  }
 },
 "nbformat": 4,
 "nbformat_minor": 5
}
