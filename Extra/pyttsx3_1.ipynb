{
 "cells": [
  {
   "cell_type": "code",
   "execution_count": null,
   "id": "0a2d0827",
   "metadata": {},
   "outputs": [],
   "source": [
    "import pyttsx3\n",
    "\n",
    "\n"
   ]
  },
  {
   "cell_type": "code",
   "execution_count": null,
   "id": "0cc42b34",
   "metadata": {},
   "outputs": [],
   "source": [
    "engine=pyttsx3.init()\n"
   ]
  },
  {
   "cell_type": "code",
   "execution_count": null,
   "id": "6a614459",
   "metadata": {},
   "outputs": [],
   "source": [
    "while(True):\n",
    "    \n",
    "    print(\"1. Withdraw\")\n",
    "    print(\"2. Check Balance\")\n",
    "    print(\"3. exit\")\n",
    "    engine.say(\"Enter your choice\")\n",
    "    engine.runAndWait()\n",
    "\n",
    "    i=int(input(\"Enter your choice\"))\n",
    "\n",
    "    if i==1:\n",
    "        engine.say(\"Withdraw Successful\")\n",
    "        engine.runAndWait()\n",
    "    elif i==2:\n",
    "        engine.say(\"Your are billionare\")\n",
    "        engine.runAndWait()\n",
    "    elif i==3:\n",
    "        engine.say(\"exit\")\n",
    "        engine.runAndWait()\n",
    "        break"
   ]
  },
  {
   "cell_type": "code",
   "execution_count": null,
   "id": "20914f07",
   "metadata": {},
   "outputs": [],
   "source": []
  }
 ],
 "metadata": {
  "language_info": {
   "name": "python"
  }
 },
 "nbformat": 4,
 "nbformat_minor": 5
}
