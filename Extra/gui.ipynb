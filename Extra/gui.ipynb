{
 "cells": [
  {
   "cell_type": "code",
   "execution_count": null,
   "id": "0b433878",
   "metadata": {},
   "outputs": [],
   "source": [
    "from tkinter import *\n",
    "\n",
    "\n"
   ]
  },
  {
   "cell_type": "code",
   "execution_count": null,
   "id": "6746c349",
   "metadata": {},
   "outputs": [],
   "source": [
    "top = Tk()\n",
    "\n"
   ]
  },
  {
   "cell_type": "code",
   "execution_count": null,
   "id": "3aba08a4",
   "metadata": {},
   "outputs": [],
   "source": [
    "resultStr= StringVar()\n",
    "resultStr.set(\"Enter Numbers and Click the Button\")\n",
    "number1Label = Label (text=\"First Number\")\n",
    "number1Label.pack()\n",
    "number1Box = Entry()\n",
    "number1Box.pack()\n",
    "\n",
    "number2Label = Label (text=\"Second Number\")\n",
    "number2Label.pack()\n",
    "number2Box = Entry()\n",
    "number2Box.pack()\n",
    "\n",
    "resultLabel = Label(textvariable=resultStr)\n",
    "resultLabel.pack()\n",
    "\n"
   ]
  },
  {
   "cell_type": "code",
   "execution_count": null,
   "id": "a965447a",
   "metadata": {},
   "outputs": [],
   "source": [
    "def addNo():\n",
    "    no1 = int(number1Box.get())\n",
    "    no2 = int(number2Box.get())\n",
    "    no3 = no1+no2\n",
    "    resultStr.set( \"The Sum is \"+str(no3))\n"
   ]
  },
  {
   "cell_type": "code",
   "execution_count": null,
   "id": "55d52c16",
   "metadata": {},
   "outputs": [],
   "source": [
    "but = Button(text=\"Add\", command=addNo)\n"
   ]
  },
  {
   "cell_type": "code",
   "execution_count": null,
   "id": "dab45081",
   "metadata": {},
   "outputs": [],
   "source": [
    "but.pack()\n",
    "\n"
   ]
  },
  {
   "cell_type": "code",
   "execution_count": null,
   "id": "b924c9ae",
   "metadata": {},
   "outputs": [],
   "source": [
    "top.mainloop()"
   ]
  }
 ],
 "metadata": {
  "language_info": {
   "name": "python"
  }
 },
 "nbformat": 4,
 "nbformat_minor": 5
}
